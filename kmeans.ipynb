{
 "cells": [
  {
   "cell_type": "code",
   "execution_count": 1,
   "metadata": {},
   "outputs": [
    {
     "name": "stderr",
     "output_type": "stream",
     "text": [
      "/usr/local/anaconda3/lib/python3.7/site-packages/sklearn/externals/joblib/__init__.py:15: DeprecationWarning: sklearn.externals.joblib is deprecated in 0.21 and will be removed in 0.23. Please import this functionality directly from joblib, which can be installed with: pip install joblib. If this warning is raised when loading pickled models, you may need to re-serialize those models with scikit-learn 0.21+.\n",
      "  warnings.warn(msg, category=DeprecationWarning)\n"
     ]
    }
   ],
   "source": [
    "import numpy as np\n",
    "import cv2\n",
    "from math import floor\n",
    "from Functions import *\n",
    "import matplotlib.image as mpimg\n",
    "import time\n",
    "from scipy.misc import imresize\n",
    "import scipy.io as io\n",
    "#from multiprocessing import Pool, Lock\n",
    "from sklearn.cluster import KMeans\n",
    "from sklearn.externals import joblib\n",
    "\n",
    "np.set_printoptions(suppress=True)"
   ]
  },
  {
   "cell_type": "code",
   "execution_count": 2,
   "metadata": {},
   "outputs": [],
   "source": [
    "R = 4\n",
    "patchSize = 11\n",
    "patchMargin = floor(patchSize/2)\n",
    "dim_pca = 1\n",
    "patchNum = 3000\n",
    "\n",
    "testPath = 'trainingData'\n",
    "pcaSavePath = 'x'+str(R)+'_'+str(dim_pca)+'_'+str(patchNum)+'_patch_PCA_matrix.mat'\n",
    "meanSavePath = 'x'+str(R)+'_'+str(dim_pca)+'_'+str(patchNum)+'_patch_mean_matrix.mat'\n",
    "kmeansSavePath = 'x'+str(R)+'_'+str(dim_pca)+'_'+str(patchNum)+'_kmeans.model'\n",
    "filelist = make_dataset(testPath)\n",
    "\n",
    "\n",
    "sample = None\n",
    "kmeans = KMeans(n_clusters=R*R, random_state=None)\n"
   ]
  },
  {
   "cell_type": "code",
   "execution_count": 3,
   "metadata": {},
   "outputs": [
    {
     "name": "stdout",
     "output_type": "stream",
     "text": [
      " Processing 1/200 image (trainingData/157036.jpg)\n",
      " Processing 2/200 image (trainingData/187029.jpg)\n",
      " Processing 3/200 image (trainingData/71046.jpg)\n"
     ]
    },
    {
     "name": "stderr",
     "output_type": "stream",
     "text": [
      "/usr/local/anaconda3/lib/python3.7/site-packages/ipykernel_launcher.py:20: DeprecationWarning: `imresize` is deprecated!\n",
      "`imresize` is deprecated in SciPy 1.0.0, and will be removed in 1.3.0.\n",
      "Use Pillow instead: ``numpy.array(Image.fromarray(arr).resize())``.\n",
      "/usr/local/anaconda3/lib/python3.7/site-packages/ipykernel_launcher.py:21: DeprecationWarning: `imresize` is deprecated!\n",
      "`imresize` is deprecated in SciPy 1.0.0, and will be removed in 1.3.0.\n",
      "Use Pillow instead: ``numpy.array(Image.fromarray(arr).resize())``.\n"
     ]
    },
    {
     "name": "stdout",
     "output_type": "stream",
     "text": [
      " Processing 4/200 image (trainingData/299091.jpg)\n",
      " Processing 5/200 image (trainingData/242078.jpg)\n",
      " Processing 6/200 image (trainingData/232038.jpg)\n",
      " Processing 7/200 image (trainingData/173036.jpg)\n",
      " Processing 8/200 image (trainingData/198054.jpg)\n",
      " Processing 9/200 image (trainingData/388016.jpg)\n",
      " Processing 10/200 image (trainingData/292066.jpg)\n",
      " Processing 11/200 image (trainingData/189011.jpg)\n",
      " Processing 12/200 image (trainingData/59078.jpg)\n",
      " Processing 13/200 image (trainingData/108041.jpg)\n",
      " Processing 14/200 image (trainingData/66075.jpg)\n",
      " Processing 15/200 image (trainingData/20008.jpg)\n",
      " Processing 16/200 image (trainingData/370036.jpg)\n",
      " Processing 17/200 image (trainingData/41025.jpg)\n",
      " Processing 18/200 image (trainingData/207056.jpg)\n",
      " Processing 19/200 image (trainingData/314016.jpg)\n",
      " Processing 20/200 image (trainingData/188091.jpg)\n",
      " Processing 21/200 image (trainingData/56028.jpg)\n",
      " Processing 22/200 image (trainingData/134008.jpg)\n",
      " Processing 23/200 image (trainingData/153093.jpg)\n",
      " Processing 24/200 image (trainingData/54005.jpg)\n",
      " Processing 25/200 image (trainingData/65019.jpg)\n",
      " Processing 26/200 image (trainingData/176039.jpg)\n",
      " Processing 27/200 image (trainingData/187003.jpg)\n",
      " Processing 28/200 image (trainingData/61086.jpg)\n",
      " Processing 29/200 image (trainingData/147021.jpg)\n",
      " Processing 30/200 image (trainingData/353013.jpg)\n",
      " Processing 31/200 image (trainingData/317080.jpg)\n",
      " Processing 32/200 image (trainingData/28096.jpg)\n",
      " Processing 33/200 image (trainingData/35010.jpg)\n",
      " Processing 34/200 image (trainingData/151087.jpg)\n",
      " Processing 35/200 image (trainingData/254033.jpg)\n",
      " Processing 36/200 image (trainingData/189003.jpg)\n",
      " Processing 37/200 image (trainingData/144067.jpg)\n",
      " Processing 38/200 image (trainingData/33066.jpg)\n",
      " Processing 39/200 image (trainingData/138032.jpg)\n",
      " Processing 40/200 image (trainingData/15088.jpg)\n",
      " Processing 41/200 image (trainingData/249061.jpg)\n",
      " Processing 42/200 image (trainingData/68077.jpg)\n",
      " Processing 43/200 image (trainingData/368078.jpg)\n",
      " Processing 44/200 image (trainingData/187039.jpg)\n",
      " Processing 45/200 image (trainingData/87065.jpg)\n",
      " Processing 46/200 image (trainingData/216066.jpg)\n",
      " Processing 47/200 image (trainingData/43083.jpg)\n",
      " Processing 48/200 image (trainingData/372047.jpg)\n",
      " Processing 49/200 image (trainingData/227046.jpg)\n",
      " Processing 50/200 image (trainingData/15004.jpg)\n",
      " Processing 51/200 image (trainingData/236017.jpg)\n",
      " Processing 52/200 image (trainingData/310007.jpg)\n",
      " Processing 53/200 image (trainingData/198023.jpg)\n",
      " Processing 54/200 image (trainingData/22093.jpg)\n",
      " Processing 55/200 image (trainingData/106025.jpg)\n",
      " Processing 56/200 image (trainingData/202012.jpg)\n",
      " Processing 57/200 image (trainingData/159045.jpg)\n",
      " Processing 58/200 image (trainingData/376020.jpg)\n",
      " Processing 59/200 image (trainingData/124084.jpg)\n",
      " Processing 60/200 image (trainingData/254054.jpg)\n",
      " Processing 61/200 image (trainingData/25098.jpg)\n",
      " Processing 62/200 image (trainingData/8049.jpg)\n",
      " Processing 63/200 image (trainingData/104022.jpg)\n",
      " Processing 64/200 image (trainingData/238011.jpg)\n",
      " Processing 65/200 image (trainingData/285036.jpg)\n",
      " Processing 66/200 image (trainingData/65132.jpg)\n",
      " Processing 67/200 image (trainingData/326038.jpg)\n",
      " Processing 68/200 image (trainingData/22090.jpg)\n",
      " Processing 69/200 image (trainingData/159091.jpg)\n",
      " Processing 70/200 image (trainingData/76002.jpg)\n",
      " Processing 71/200 image (trainingData/227040.jpg)\n",
      " Processing 72/200 image (trainingData/145053.jpg)\n",
      " Processing 73/200 image (trainingData/374020.jpg)\n",
      " Processing 74/200 image (trainingData/46076.jpg)\n",
      " Processing 75/200 image (trainingData/100080.jpg)\n",
      " Processing 76/200 image (trainingData/113016.jpg)\n",
      " Processing 77/200 image (trainingData/134052.jpg)\n",
      " Processing 78/200 image (trainingData/311068.jpg)\n",
      " Processing 79/200 image (trainingData/239096.jpg)\n",
      " Processing 80/200 image (trainingData/187071.jpg)\n",
      " Processing 81/200 image (trainingData/16052.jpg)\n",
      " Processing 82/200 image (trainingData/94079.jpg)\n",
      " Processing 83/200 image (trainingData/311081.jpg)\n",
      " Processing 84/200 image (trainingData/118035.jpg)\n",
      " Processing 85/200 image (trainingData/130034.jpg)\n",
      " Processing 86/200 image (trainingData/138078.jpg)\n",
      " Processing 87/200 image (trainingData/35070.jpg)\n",
      " Processing 88/200 image (trainingData/35058.jpg)\n",
      " Processing 89/200 image (trainingData/260081.jpg)\n",
      " Processing 90/200 image (trainingData/246053.jpg)\n",
      " Processing 91/200 image (trainingData/26031.jpg)\n",
      " Processing 92/200 image (trainingData/67079.jpg)\n",
      " Processing 93/200 image (trainingData/164074.jpg)\n",
      " Processing 94/200 image (trainingData/95006.jpg)\n",
      " Processing 95/200 image (trainingData/27059.jpg)\n",
      " Processing 96/200 image (trainingData/66039.jpg)\n",
      " Processing 97/200 image (trainingData/112082.jpg)\n",
      " Processing 98/200 image (trainingData/140075.jpg)\n",
      " Processing 99/200 image (trainingData/106020.jpg)\n",
      " Processing 100/200 image (trainingData/97017.jpg)\n",
      " Processing 101/200 image (trainingData/302003.jpg)\n",
      " Processing 102/200 image (trainingData/118020.jpg)\n",
      " Processing 103/200 image (trainingData/365073.jpg)\n",
      " Processing 104/200 image (trainingData/178054.jpg)\n",
      " Processing 105/200 image (trainingData/216053.jpg)\n",
      " Processing 106/200 image (trainingData/268002.jpg)\n",
      " Processing 107/200 image (trainingData/368016.jpg)\n",
      " Processing 108/200 image (trainingData/117054.jpg)\n",
      " Processing 109/200 image (trainingData/277095.jpg)\n",
      " Processing 110/200 image (trainingData/274007.jpg)\n",
      " Processing 111/200 image (trainingData/385028.jpg)\n",
      " Processing 112/200 image (trainingData/48055.jpg)\n",
      " Processing 113/200 image (trainingData/286092.jpg)\n",
      " Processing 114/200 image (trainingData/23025.jpg)\n",
      " Processing 115/200 image (trainingData/24004.jpg)\n",
      " Processing 116/200 image (trainingData/323016.jpg)\n",
      " Processing 117/200 image (trainingData/271008.jpg)\n",
      " Processing 118/200 image (trainingData/376001.jpg)\n",
      " Processing 119/200 image (trainingData/187083.jpg)\n",
      " Processing 120/200 image (trainingData/161062.jpg)\n",
      " Processing 121/200 image (trainingData/188005.jpg)\n",
      " Processing 122/200 image (trainingData/100098.jpg)\n",
      " Processing 123/200 image (trainingData/135037.jpg)\n",
      " Processing 124/200 image (trainingData/309004.jpg)\n",
      " Processing 125/200 image (trainingData/169012.jpg)\n",
      " Processing 126/200 image (trainingData/231015.jpg)\n",
      " Processing 127/200 image (trainingData/166081.jpg)\n",
      " Processing 128/200 image (trainingData/271031.jpg)\n",
      " Processing 129/200 image (trainingData/216041.jpg)\n",
      " Processing 130/200 image (trainingData/181018.jpg)\n",
      " Processing 131/200 image (trainingData/163062.jpg)\n",
      " Processing 132/200 image (trainingData/35091.jpg)\n",
      " Processing 133/200 image (trainingData/198004.jpg)\n",
      " Processing 134/200 image (trainingData/196015.jpg)\n",
      " Processing 135/200 image (trainingData/172032.jpg)\n",
      " Processing 136/200 image (trainingData/12003.jpg)\n",
      " Processing 137/200 image (trainingData/147062.jpg)\n",
      " Processing 138/200 image (trainingData/105053.jpg)\n",
      " Processing 139/200 image (trainingData/43070.jpg)\n",
      " Processing 140/200 image (trainingData/65074.jpg)\n",
      " Processing 141/200 image (trainingData/78019.jpg)\n",
      " Processing 142/200 image (trainingData/140055.jpg)\n",
      " Processing 143/200 image (trainingData/100075.jpg)\n",
      " Processing 144/200 image (trainingData/113009.jpg)\n",
      " Processing 145/200 image (trainingData/155060.jpg)\n",
      " Processing 146/200 image (trainingData/60079.jpg)\n",
      " Processing 147/200 image (trainingData/23084.jpg)\n",
      " Processing 148/200 image (trainingData/249087.jpg)\n",
      " Processing 149/200 image (trainingData/183087.jpg)\n",
      " Processing 150/200 image (trainingData/45077.jpg)\n",
      " Processing 151/200 image (trainingData/22013.jpg)\n",
      " Processing 152/200 image (trainingData/209070.jpg)\n",
      " Processing 153/200 image (trainingData/55067.jpg)\n",
      " Processing 154/200 image (trainingData/245051.jpg)\n",
      " Processing 155/200 image (trainingData/239007.jpg)\n",
      " Processing 156/200 image (trainingData/176019.jpg)\n",
      " Processing 157/200 image (trainingData/8143.jpg)\n",
      " Processing 158/200 image (trainingData/103041.jpg)\n",
      " Processing 159/200 image (trainingData/145014.jpg)\n",
      " Processing 160/200 image (trainingData/113044.jpg)\n",
      " Processing 161/200 image (trainingData/374067.jpg)\n",
      " Processing 162/200 image (trainingData/41004.jpg)\n",
      " Processing 163/200 image (trainingData/109034.jpg)\n",
      " Processing 164/200 image (trainingData/35008.jpg)\n",
      " Processing 165/200 image (trainingData/246016.jpg)\n",
      " Processing 166/200 image (trainingData/135069.jpg)\n",
      " Processing 167/200 image (trainingData/225017.jpg)\n",
      " Processing 168/200 image (trainingData/361084.jpg)\n",
      " Processing 169/200 image (trainingData/61060.jpg)\n",
      " Processing 170/200 image (trainingData/253036.jpg)\n",
      " Processing 171/200 image (trainingData/65010.jpg)\n",
      " Processing 172/200 image (trainingData/105019.jpg)\n",
      " Processing 173/200 image (trainingData/90076.jpg)\n",
      " Processing 174/200 image (trainingData/42078.jpg)\n",
      " Processing 175/200 image (trainingData/42044.jpg)\n",
      " Processing 176/200 image (trainingData/156079.jpg)\n",
      " Processing 177/200 image (trainingData/188063.jpg)\n",
      " Processing 178/200 image (trainingData/126039.jpg)\n",
      " Processing 179/200 image (trainingData/28075.jpg)\n",
      " Processing 180/200 image (trainingData/55075.jpg)\n",
      " Processing 181/200 image (trainingData/122048.jpg)\n",
      " Processing 182/200 image (trainingData/163014.jpg)\n",
      " Processing 183/200 image (trainingData/181091.jpg)\n",
      " Processing 184/200 image (trainingData/170054.jpg)\n",
      " Processing 185/200 image (trainingData/301007.jpg)\n",
      " Processing 186/200 image (trainingData/12074.jpg)\n",
      " Processing 187/200 image (trainingData/247085.jpg)\n",
      " Processing 188/200 image (trainingData/293029.jpg)\n",
      " Processing 189/200 image (trainingData/176035.jpg)\n",
      " Processing 190/200 image (trainingData/80099.jpg)\n",
      " Processing 191/200 image (trainingData/159029.jpg)\n",
      " Processing 192/200 image (trainingData/24063.jpg)\n",
      " Processing 193/200 image (trainingData/183055.jpg)\n",
      " Processing 194/200 image (trainingData/2092.jpg)\n",
      " Processing 195/200 image (trainingData/181079.jpg)\n",
      " Processing 196/200 image (trainingData/92059.jpg)\n",
      " Processing 197/200 image (trainingData/108073.jpg)\n",
      " Processing 198/200 image (trainingData/153077.jpg)\n",
      " Processing 199/200 image (trainingData/23080.jpg)\n",
      " Processing 200/200 image (trainingData/365025.jpg)\n",
      "(121, 600000)\n",
      "(600000, 1)\n",
      "PCA matrix saved\n",
      "\n",
      "kmeans model saved\n"
     ]
    }
   ],
   "source": [
    "imagecount = 1\n",
    "for image in filelist:\n",
    "    print('\\r', end='')\n",
    "    print('' * 60, end='')\n",
    "    print('\\r Processing ' + str(imagecount) + '/' + str(len(filelist)) + ' image (' + image + ')')\n",
    "    im_uint8 = cv2.imread(image)\n",
    "    im_mp = mpimg.imread(image)\n",
    "    if len(im_mp.shape) == 2:\n",
    "        im_uint8 = im_uint8[:,:,0]\n",
    "    im_uint8 = modcrop(im_uint8, R)\n",
    "    if len(im_uint8.shape) > 2:\n",
    "        im_ycbcr = BGR2YCbCr(im_uint8)\n",
    "        im = im_ycbcr[:, :, 0]\n",
    "    else:\n",
    "        im = im_uint8\n",
    "    im_double = im2double(im)\n",
    "    H, W = im.shape\n",
    "    region = (slice(patchMargin, H - patchMargin), slice(patchMargin, W - patchMargin))\n",
    "    #start = time.time()\n",
    "    imL = imresize(im_double, 1 / R, interp='bicubic', mode='F')\n",
    "    im_bicubic = imresize(imL, (H, W), interp='bicubic', mode='F')\n",
    "    im_bicubic = im_bicubic.astype('float64')\n",
    "    im_bicubic = np.clip(im_bicubic, 0, 1)\n",
    "    im_LR = np.zeros((H+patchSize-1,W+patchSize-1))\n",
    "    im_LR[(patchMargin):(H+patchMargin),(patchMargin):(W+patchMargin)] = im_bicubic\n",
    "    im_result = np.zeros((H, W))\n",
    "    #im_GX, im_GY = np.gradient(im_LR)\n",
    "    index = np.array(range(im_LR.size)).reshape(im_LR.shape)\n",
    "    offset = np.array(index[0:H, 0:W].ravel())\n",
    "    rand = np.random.randint(0, offset.size, patchNum)\n",
    "    gridon = index[0:patchSize, 0:patchSize]\n",
    "    grid = np.tile(gridon[..., None], [1, 1, patchNum]) + np.tile(rand, [patchSize, patchSize, 1])\n",
    "    if imagecount == 1:\n",
    "        sample = im_LR.ravel()[grid]\n",
    "    else:\n",
    "        sample = np.concatenate((sample, im_LR.ravel()[grid]), axis=2)\n",
    "\n",
    "    imagecount += 1\n",
    "    \n",
    "sample = sample.reshape(patchSize*patchSize, -1)\n",
    "print(sample.shape)\n",
    "\n",
    "# PCA\n",
    "mean = np.mean(sample, axis=1).reshape(-1,1)\n",
    "sample -= mean\n",
    "ssT = np.dot(sample, sample.T) / sample.shape[1]\n",
    "U, S, V = np.linalg.svd(ssT)\n",
    "pca_matrix = U[:, :dim_pca].T\n",
    "sample_reduced = np.dot(pca_matrix, sample).reshape(-1, dim_pca)\n",
    "print(sample_reduced.shape)\n",
    "# Store the PCA\n",
    "io.savemat(meanSavePath, {'m': mean})\n",
    "io.savemat(pcaSavePath, {'p': pca_matrix})\n",
    "print('PCA matrix saved\\n')\n",
    "\n",
    "# Clustering\n",
    "kmeans = kmeans.fit(sample_reduced)\n",
    "joblib.dump(kmeans, kmeansSavePath)\n",
    "print('kmeans model saved\\r')\n",
    "# print(kmeans.cluster_centers_)\n",
    "\n",
    "\n",
    "\n",
    "    \n"
   ]
  },
  {
   "cell_type": "code",
   "execution_count": null,
   "metadata": {},
   "outputs": [],
   "source": []
  },
  {
   "cell_type": "markdown",
   "metadata": {},
   "source": [
    "# Playground"
   ]
  },
  {
   "cell_type": "code",
   "execution_count": 6,
   "metadata": {},
   "outputs": [
    {
     "data": {
      "text/plain": [
       "(121, 600000)"
      ]
     },
     "execution_count": 6,
     "metadata": {},
     "output_type": "execute_result"
    }
   ],
   "source": [
    "sample.shape"
   ]
  },
  {
   "cell_type": "code",
   "execution_count": null,
   "metadata": {},
   "outputs": [],
   "source": [
    "kmeans.cluster_centers_"
   ]
  },
  {
   "cell_type": "code",
   "execution_count": 9,
   "metadata": {},
   "outputs": [
    {
     "data": {
      "text/plain": [
       "340067"
      ]
     },
     "execution_count": 9,
     "metadata": {},
     "output_type": "execute_result"
    }
   ],
   "source": [
    "np.count_nonzero(kmeans.labels_)"
   ]
  },
  {
   "cell_type": "code",
   "execution_count": 8,
   "metadata": {},
   "outputs": [
    {
     "data": {
      "text/plain": [
       "614"
      ]
     },
     "execution_count": 8,
     "metadata": {},
     "output_type": "execute_result"
    }
   ],
   "source": [
    "np.sum(kmeans.labels_==3)"
   ]
  },
  {
   "cell_type": "code",
   "execution_count": 7,
   "metadata": {},
   "outputs": [
    {
     "data": {
      "text/plain": [
       "array([4.15005383, 0.25179007, 0.19843432, 0.06874853, 0.05521984,\n",
       "       0.03884089, 0.02875973, 0.02323614, 0.01864805, 0.01738227,\n",
       "       0.01355224, 0.0096365 , 0.00923075, 0.00827282, 0.00754641,\n",
       "       0.00749147, 0.00498264, 0.00470902, 0.00449849, 0.00443665,\n",
       "       0.00375496, 0.0033786 , 0.00306299, 0.00298789, 0.00276854,\n",
       "       0.00267204, 0.0024356 , 0.00225047, 0.00206228, 0.0020455 ,\n",
       "       0.00189912, 0.00128627, 0.00126568, 0.00112841, 0.0010248 ,\n",
       "       0.000984  , 0.00077913, 0.00074539, 0.00053144, 0.00047638,\n",
       "       0.00046261, 0.00039562, 0.00037052, 0.00034805, 0.00032054,\n",
       "       0.00031788, 0.00025687, 0.00024069, 0.00018133, 0.00017973,\n",
       "       0.00016796, 0.00016049, 0.00015801, 0.00015672, 0.00011388,\n",
       "       0.00010976, 0.00008082, 0.00007999, 0.00007875, 0.00007712,\n",
       "       0.00006935, 0.00006722, 0.00006524, 0.00004899, 0.00004523,\n",
       "       0.00003846, 0.00003653, 0.00003451, 0.0000337 , 0.00003192,\n",
       "       0.00003024, 0.00003022, 0.00002386, 0.00002267, 0.00001697,\n",
       "       0.000016  , 0.00001497, 0.00001448, 0.00001433, 0.00001335,\n",
       "       0.00001104, 0.0000097 , 0.00000872, 0.00000759, 0.0000065 ,\n",
       "       0.00000629, 0.00000623, 0.00000562, 0.000005  , 0.00000452,\n",
       "       0.00000375, 0.00000331, 0.0000031 , 0.00000273, 0.00000247,\n",
       "       0.00000199, 0.00000192, 0.00000163, 0.00000146, 0.00000132,\n",
       "       0.00000125, 0.00000088, 0.0000008 , 0.00000072, 0.00000067,\n",
       "       0.00000055, 0.00000046, 0.00000039, 0.00000036, 0.0000003 ,\n",
       "       0.00000022, 0.00000021, 0.0000002 , 0.00000016, 0.00000013,\n",
       "       0.00000011, 0.00000009, 0.00000007, 0.00000005, 0.00000002,\n",
       "       0.00000001])"
      ]
     },
     "execution_count": 7,
     "metadata": {},
     "output_type": "execute_result"
    }
   ],
   "source": [
    "S"
   ]
  },
  {
   "cell_type": "code",
   "execution_count": 5,
   "metadata": {},
   "outputs": [
    {
     "data": {
      "text/plain": [
       "(1, 121)"
      ]
     },
     "execution_count": 5,
     "metadata": {},
     "output_type": "execute_result"
    }
   ],
   "source": [
    "pca_matrix = io.loadmat('2000_patch_PCA_matrix.mat')['p']\n",
    "pca_matrix.shape"
   ]
  },
  {
   "cell_type": "code",
   "execution_count": 23,
   "metadata": {},
   "outputs": [
    {
     "data": {
      "text/plain": [
       "134849"
      ]
     },
     "execution_count": 23,
     "metadata": {},
     "output_type": "execute_result"
    }
   ],
   "source": [
    "kmeans = joblib.load('1_2000_kmeans.model')\n",
    "np.sum(kmeans.labels_==0)"
   ]
  },
  {
   "cell_type": "code",
   "execution_count": null,
   "metadata": {},
   "outputs": [],
   "source": []
  }
 ],
 "metadata": {
  "kernelspec": {
   "display_name": "Python 3",
   "language": "python",
   "name": "python3"
  },
  "language_info": {
   "codemirror_mode": {
    "name": "ipython",
    "version": 3
   },
   "file_extension": ".py",
   "mimetype": "text/x-python",
   "name": "python",
   "nbconvert_exporter": "python",
   "pygments_lexer": "ipython3",
   "version": "3.7.3"
  }
 },
 "nbformat": 4,
 "nbformat_minor": 4
}
